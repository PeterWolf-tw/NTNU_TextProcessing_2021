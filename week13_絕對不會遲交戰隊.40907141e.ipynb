{
  "nbformat": 4,
  "nbformat_minor": 0,
  "metadata": {
    "colab": {
      "name": "Untitled1.ipynb",
      "provenance": [],
      "authorship_tag": "ABX9TyMzsYFxzVZKSh9uJwfIxLQz",
      "include_colab_link": true
    },
    "kernelspec": {
      "name": "python3",
      "display_name": "Python 3"
    },
    "language_info": {
      "name": "python"
    }
  },
  "cells": [
    {
      "cell_type": "markdown",
      "metadata": {
        "id": "view-in-github",
        "colab_type": "text"
      },
      "source": [
        "<a href=\"https://colab.research.google.com/github/PeterWolf-tw/NTNU_TextProcessing_2021/blob/40907141E.py/week13_%E7%B5%95%E5%B0%8D%E4%B8%8D%E6%9C%83%E9%81%B2%E4%BA%A4%E6%88%B0%E9%9A%8A.40907141e.ipynb\" target=\"_parent\"><img src=\"https://colab.research.google.com/assets/colab-badge.svg\" alt=\"Open In Colab\"/></a>"
      ]
    },
    {
      "cell_type": "code",
      "metadata": {
        "colab": {
          "base_uri": "https://localhost:8080/"
        },
        "id": "OQoeTVSFG2K4",
        "outputId": "fa39c69d-bfc3-4442-b534-733034825cd7"
      },
      "source": [
        "from google.colab import drive\n",
        "drive.mount('/content/drive')"
      ],
      "execution_count": 3,
      "outputs": [
        {
          "output_type": "stream",
          "text": [
            "Drive already mounted at /content/drive; to attempt to forcibly remount, call drive.mount(\"/content/drive\", force_remount=True).\n"
          ],
          "name": "stdout"
        }
      ]
    },
    {
      "cell_type": "code",
      "metadata": {
        "colab": {
          "base_uri": "https://localhost:8080/"
        },
        "id": "u1Pw0VPkHD9m",
        "outputId": "3730072d-171b-44e8-b7ca-5f372fae12ca"
      },
      "source": [
        "import os\n",
        "os.chdir('/content/drive/MyDrive/')\n",
        "print(os.getcwd())"
      ],
      "execution_count": 4,
      "outputs": [
        {
          "output_type": "stream",
          "text": [
            "/content/drive/MyDrive\n"
          ],
          "name": "stdout"
        }
      ]
    },
    {
      "cell_type": "code",
      "metadata": {
        "colab": {
          "base_uri": "https://localhost:8080/"
        },
        "id": "BezDrKLnHIvD",
        "outputId": "1f33e605-ff73-469c-b8e6-dce06de34e38"
      },
      "source": [
        "import json\n",
        "from gensim.models import word2vec\n",
        "from gensim import models\n",
        "\n",
        "\n",
        "\n",
        "\n",
        "def writeJSON(path, data):\n",
        "    with open(path, 'w', encoding=\"utf8\") as f:\n",
        "        json.dump(data, f, indent=4, ensure_ascii=False)\n",
        "\n",
        "\n",
        "if __name__== \"__main__\":\n",
        "    simLIST = [\"貓咪\", \"老鼠\", \"吹風機\", \"光明\", \"文章\", \"可愛\", \"耍帥\", \"鉛筆\", \"橡皮擦\", \"尺\"]\n",
        "    model = models.Word2Vec.load(\"./wiki2019tw_word2vec_cbow_d300/wiki2019tw_word2vec_cbow_d300.model\")\n",
        "    result = {}\n",
        "    for s in simLIST:\n",
        "        sims = model.wv.most_similar((s), topn=10)\n",
        "        result[s] = []\n",
        "        for simWord in sims:\n",
        "            print(\"{}, {}\".format(simWord[0], str(simWord[1])))\n",
        "            result[s].append(simWord[0])\n",
        "        print(\"\\n\")\n",
        "    jsonPath = \"wv2_絕對不會遲交戰隊.40907141e.json\"\n",
        "    writeJSON(jsonPath,result)"
      ],
      "execution_count": 8,
      "outputs": [
        {
          "output_type": "stream",
          "text": [
            "小狗, 0.656478226184845\n",
            "猴子, 0.640042781829834\n",
            "玩偶, 0.6243841648101807\n",
            "狐狸, 0.6208838820457458\n",
            "青蛙, 0.6199374198913574\n",
            "妖精, 0.6175282001495361\n",
            "兔子, 0.6170865297317505\n",
            "狗狗, 0.6134760975837708\n",
            "小豬, 0.6125426888465881\n",
            "妖怪, 0.6101129651069641\n",
            "\n",
            "\n",
            "猴子, 0.7366596460342407\n",
            "兔子, 0.7165578603744507\n",
            "貓, 0.6772918701171875\n",
            "鴨子, 0.6650072932243347\n",
            "蟲子, 0.6598494052886963\n",
            "青蛙, 0.6582321524620056\n",
            "小狗, 0.6580941677093506\n",
            "小豬, 0.6413294076919556\n",
            "狗, 0.636300265789032\n",
            "蟑螂, 0.6264302730560303\n",
            "\n",
            "\n",
            "黏合劑, 0.6696427464485168\n",
            "鑷子, 0.6533184051513672\n",
            "燒瓶, 0.6434162259101868\n",
            "日光燈, 0.6419954895973206\n",
            "墊圈, 0.6406339406967163\n",
            "螢光燈, 0.6394726037979126\n",
            "光棒, 0.6376177668571472\n",
            "保溫瓶, 0.6375420093536377\n",
            "膠盒, 0.637022852897644\n",
            "發泡劑, 0.629580020904541\n",
            "\n",
            "\n",
            "永恆, 0.4711688756942749\n",
            "永生, 0.45826125144958496\n",
            "重見, 0.4566768705844879\n",
            "之龍, 0.4497349262237549\n",
            "幸福, 0.4464186429977417\n",
            "慈悲, 0.4442126154899597\n",
            "喜樂, 0.43344444036483765\n",
            "救世, 0.4329662024974823\n",
            "天國, 0.43010127544403076\n",
            "天界, 0.4252531826496124\n",
            "\n",
            "\n",
            "短文, 0.7263807654380798\n",
            "社論, 0.7149349451065063\n",
            "論文, 0.6784327030181885\n",
            "專文, 0.671379566192627\n",
            "社評, 0.6553381681442261\n",
            "該文, 0.646563708782196\n",
            "書評, 0.644914984703064\n",
            "帖子, 0.6386699676513672\n",
            "此文, 0.6260200142860413\n",
            "稿件, 0.6223020553588867\n",
            "\n",
            "\n",
            "帥氣, 0.7682986259460449\n",
            "甜美, 0.7449061274528503\n",
            "漂亮, 0.7183079719543457\n",
            "調皮, 0.7157518863677979\n",
            "俏皮, 0.712938129901886\n",
            "迷人, 0.7093639373779297\n",
            "溫柔, 0.7056527733802795\n",
            "臉蛋, 0.6964184045791626\n",
            "清純, 0.6833915114402771\n",
            "笑容, 0.670722484588623\n",
            "\n",
            "\n",
            "裕鳳, 0.6148537397384644\n",
            "娘炮, 0.6055481433868408\n",
            "喬弟, 0.6049356460571289\n",
            "含胸, 0.6036946773529053\n",
            "彈臂, 0.6035208702087402\n",
            "齊嗚, 0.6032836437225342\n",
            "語交, 0.6019384860992432\n",
            "珠坑, 0.6018117666244507\n",
            "二十板, 0.6006699204444885\n",
            "散潮, 0.5970793962478638\n",
            "\n",
            "\n",
            "鋼筆, 0.7615974545478821\n",
            "原子筆, 0.706888735294342\n",
            "墨水, 0.6962219476699829\n",
            "毛筆, 0.6916159391403198\n",
            "筆尖, 0.6812772750854492\n",
            "紙板, 0.679975152015686\n",
            "橡皮擦, 0.6646872758865356\n",
            "圓珠筆, 0.6643742322921753\n",
            "刷子, 0.6558279395103455\n",
            "筆芯, 0.6510753631591797\n",
            "\n",
            "\n",
            "鋼筆, 0.6708055734634399\n",
            "鉛筆, 0.6646872162818909\n",
            "原子筆, 0.656882643699646\n",
            "刷子, 0.6479859352111816\n",
            "紙板, 0.6409887671470642\n",
            "膠帶, 0.6406644582748413\n",
            "紙袋, 0.6398336291313171\n",
            "鑷子, 0.6326523423194885\n",
            "壓克力, 0.6319499015808105\n",
            "壁紙, 0.6319226622581482\n",
            "\n",
            "\n",
            "英呎, 0.6370490789413452\n",
            "寸, 0.6204370260238647\n",
            "二尺, 0.6063677072525024\n",
            "呎, 0.6034720540046692\n",
            "尺是, 0.597047746181488\n",
            "一丈, 0.5942127704620361\n",
            "丈餘, 0.5889135003089905\n",
            "二寸, 0.5846151113510132\n",
            "一尺, 0.5766666531562805\n",
            "尺長, 0.5753723382949829\n",
            "\n",
            "\n"
          ],
          "name": "stdout"
        }
      ]
    }
  ]
}